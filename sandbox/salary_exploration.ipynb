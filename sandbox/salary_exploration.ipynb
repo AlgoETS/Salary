{
 "cells": [
  {
   "cell_type": "code",
   "execution_count": 3,
   "metadata": {},
   "outputs": [
    {
     "name": "stdout",
     "output_type": "stream",
     "text": [
      "Collecting polars\n",
      "  Downloading polars-0.16.8-cp37-abi3-manylinux_2_17_x86_64.manylinux2014_x86_64.whl (15.4 MB)\n",
      "\u001b[2K     \u001b[90m━━━━━━━━━━━━━━━━━━━━━━━━━━━━━━━━━━━━━━━━\u001b[0m \u001b[32m15.4/15.4 MB\u001b[0m \u001b[31m49.8 MB/s\u001b[0m eta \u001b[36m0:00:00\u001b[0m00:01\u001b[0m00:01\u001b[0m\n",
      "\u001b[?25hRequirement already satisfied: typing_extensions>=4.0.1 in /home/codespace/.local/lib/python3.10/site-packages (from polars) (4.5.0)\n",
      "Installing collected packages: polars\n",
      "Successfully installed polars-0.16.8\n",
      "\n",
      "\u001b[1m[\u001b[0m\u001b[34;49mnotice\u001b[0m\u001b[1;39;49m]\u001b[0m\u001b[39;49m A new release of pip is available: \u001b[0m\u001b[31;49m23.0\u001b[0m\u001b[39;49m -> \u001b[0m\u001b[32;49m23.0.1\u001b[0m\n",
      "\u001b[1m[\u001b[0m\u001b[34;49mnotice\u001b[0m\u001b[1;39;49m]\u001b[0m\u001b[39;49m To update, run: \u001b[0m\u001b[32;49mpython -m pip install --upgrade pip\u001b[0m\n"
     ]
    },
    {
     "ename": "FileNotFoundError",
     "evalue": "[Errno 2] No such file or directory: '../data/salary_guide.pkl'",
     "output_type": "error",
     "traceback": [
      "\u001b[0;31m---------------------------------------------------------------------------\u001b[0m",
      "\u001b[0;31mFileNotFoundError\u001b[0m                         Traceback (most recent call last)",
      "Cell \u001b[0;32mIn[3], line 6\u001b[0m\n\u001b[1;32m      4\u001b[0m \u001b[39mimport\u001b[39;00m \u001b[39mpandas\u001b[39;00m \u001b[39mas\u001b[39;00m \u001b[39mpd\u001b[39;00m\n\u001b[1;32m      5\u001b[0m \u001b[39mimport\u001b[39;00m \u001b[39mpolars\u001b[39;00m \u001b[39mas\u001b[39;00m \u001b[39mpl\u001b[39;00m\n\u001b[0;32m----> 6\u001b[0m \u001b[39mwith\u001b[39;00m \u001b[39mopen\u001b[39;49m(\u001b[39m\"\u001b[39;49m\u001b[39m../data/salary_guide.pkl\u001b[39;49m\u001b[39m\"\u001b[39;49m, \u001b[39m'\u001b[39;49m\u001b[39mrb\u001b[39;49m\u001b[39m'\u001b[39;49m) \u001b[39mas\u001b[39;00m f:\n\u001b[1;32m      7\u001b[0m      data \u001b[39m=\u001b[39m pickle\u001b[39m.\u001b[39mload(f)\n\u001b[1;32m      9\u001b[0m \u001b[39m# load to dataframe\u001b[39;00m\n",
      "File \u001b[0;32m~/.local/lib/python3.10/site-packages/IPython/core/interactiveshell.py:282\u001b[0m, in \u001b[0;36m_modified_open\u001b[0;34m(file, *args, **kwargs)\u001b[0m\n\u001b[1;32m    275\u001b[0m \u001b[39mif\u001b[39;00m file \u001b[39min\u001b[39;00m {\u001b[39m0\u001b[39m, \u001b[39m1\u001b[39m, \u001b[39m2\u001b[39m}:\n\u001b[1;32m    276\u001b[0m     \u001b[39mraise\u001b[39;00m \u001b[39mValueError\u001b[39;00m(\n\u001b[1;32m    277\u001b[0m         \u001b[39mf\u001b[39m\u001b[39m\"\u001b[39m\u001b[39mIPython won\u001b[39m\u001b[39m'\u001b[39m\u001b[39mt let you open fd=\u001b[39m\u001b[39m{\u001b[39;00mfile\u001b[39m}\u001b[39;00m\u001b[39m by default \u001b[39m\u001b[39m\"\u001b[39m\n\u001b[1;32m    278\u001b[0m         \u001b[39m\"\u001b[39m\u001b[39mas it is likely to crash IPython. If you know what you are doing, \u001b[39m\u001b[39m\"\u001b[39m\n\u001b[1;32m    279\u001b[0m         \u001b[39m\"\u001b[39m\u001b[39myou can use builtins\u001b[39m\u001b[39m'\u001b[39m\u001b[39m open.\u001b[39m\u001b[39m\"\u001b[39m\n\u001b[1;32m    280\u001b[0m     )\n\u001b[0;32m--> 282\u001b[0m \u001b[39mreturn\u001b[39;00m io_open(file, \u001b[39m*\u001b[39;49margs, \u001b[39m*\u001b[39;49m\u001b[39m*\u001b[39;49mkwargs)\n",
      "\u001b[0;31mFileNotFoundError\u001b[0m: [Errno 2] No such file or directory: '../data/salary_guide.pkl'"
     ]
    }
   ],
   "source": [
    "# read pickle file\n",
    "\n",
    "import pickle\n",
    "import pandas as pd\n",
    "import polars as pl\n",
    "with open(\"../data/salary_guide.pkl\", 'rb') as f:\n",
    "     data = pickle.load(f)\n",
    "\n",
    "# load to dataframe\n",
    "df = pd.DataFrame(data)"
   ]
  },
  {
   "cell_type": "code",
   "execution_count": null,
   "metadata": {},
   "outputs": [],
   "source": [
    "df"
   ]
  },
  {
   "cell_type": "code",
   "execution_count": null,
   "metadata": {},
   "outputs": [],
   "source": [
    "# Split the salary ranges into minimum and maximum salaries\n",
    "df[['entry_min', 'entry_max']] = df['entry'].str.split('-', expand=True).astype(float)\n",
    "df[['mid_min', 'mid_max']] = df['mid'].str.split('-', expand=True).astype(float)\n",
    "df[['senior_min', 'senior_max']] = df['senior'].str.split('-', expand=True).astype(float)\n",
    "\n",
    "# Create a new column with the maximum salary for each job\n",
    "df['max_salary'] = df[['entry_max', 'mid_max', 'senior_max']].max(axis=1)\n",
    "#calculate the mean for each level\n",
    "df['entry_mean'] = df[['entry_min', 'entry_max']].mean(axis=1)\n",
    "df['mid_mean'] = df[['mid_min', 'mid_max']].mean(axis=1)\n",
    "df['senior_mean'] = df[['senior_min', 'senior_max']].mean(axis=1)\n",
    "\n",
    "# Sort the DataFrame by the maximum salary in descending order\n",
    "df_sorted = df.sort_values('max_salary', ascending=False)\n",
    "\n",
    "# Get the job that pays the most\n",
    "job_highest_paid = df_sorted['job'].iloc[0]\n",
    "\n",
    "print(f\"The job that pays the most is {job_highest_paid}\")"
   ]
  },
  {
   "cell_type": "code",
   "execution_count": null,
   "metadata": {},
   "outputs": [],
   "source": [
    "df_sorted.head()"
   ]
  },
  {
   "cell_type": "code",
   "execution_count": null,
   "metadata": {},
   "outputs": [],
   "source": [
    "df_sorted.head(100)"
   ]
  },
  {
   "attachments": {},
   "cell_type": "markdown",
   "metadata": {},
   "source": [
    "### Get the engineering jobs that pay the most"
   ]
  },
  {
   "cell_type": "code",
   "execution_count": null,
   "metadata": {},
   "outputs": [],
   "source": [
    "\n",
    "top_engineers_jobs=df_sorted[df_sorted['job'].str.contains('engineer', case=False)]\n",
    "top_engineers_jobs.head(30)"
   ]
  },
  {
   "attachments": {},
   "cell_type": "markdown",
   "metadata": {},
   "source": [
    "### get the engineers jobs that pay the least"
   ]
  },
  {
   "cell_type": "code",
   "execution_count": null,
   "metadata": {},
   "outputs": [],
   "source": [
    "\n",
    "worst_engineers_jobs=top_engineers_jobs.sort_values('max_salary', ascending=True)\n",
    "worst_engineers_jobs.head(30)\n"
   ]
  },
  {
   "attachments": {},
   "cell_type": "markdown",
   "metadata": {},
   "source": [
    "### Get the job that pays the most in Quebec"
   ]
  },
  {
   "cell_type": "code",
   "execution_count": null,
   "metadata": {},
   "outputs": [],
   "source": [
    "top_quebec_jobs=df_sorted[df_sorted['province'].str.contains('québec', case=False)]\n",
    "top_quebec_jobs.head(30)"
   ]
  },
  {
   "cell_type": "code",
   "execution_count": null,
   "metadata": {},
   "outputs": [],
   "source": [
    "#make a function to compare a specific job in a specific province\n",
    "def compare_job_province(job, province):\n",
    "    df_filtered = df[(df['province'] == province) & (df['job'] == job)]\n",
    "    df_grouped = df_filtered.groupby(['job', 'region'])['mid_mean'].mean().reset_index()\n",
    "    df_sorted = df_grouped.sort_values('mid_mean', ascending=False)\n",
    "    return df_sorted\n"
   ]
  },
  {
   "cell_type": "code",
   "execution_count": null,
   "metadata": {},
   "outputs": [],
   "source": [
    "# \"ontario\", \"québec\", \"british columbia\", \"alberta\", \"manitoba\", \"saskatchewan\", \"nova scotia\", \"new brunswick\", \"newfoundland & labrador\", \"prince edward island\"\n",
    "df_job_province = compare_job_province('cloud architect', 'québec')\n",
    "df_job_province"
   ]
  },
  {
   "cell_type": "markdown",
   "metadata": {},
   "source": [
    "## Across the country"
   ]
  },
  {
   "cell_type": "code",
   "execution_count": null,
   "metadata": {},
   "outputs": [],
   "source": [
    "#function to compare a specific job in a all provinces\n",
    "def compare_job_all_provinces(job):\n",
    "    df_filtered = df[(df['job'] == job)]\n",
    "    df_grouped = df_filtered.groupby(['job', 'province'])['mid_mean'].mean().reset_index()\n",
    "    df_sorted = df_grouped.sort_values('mid_mean', ascending=False)\n",
    "    return df_sorted\n"
   ]
  },
  {
   "cell_type": "code",
   "execution_count": null,
   "metadata": {},
   "outputs": [],
   "source": [
    "df_job_all_provinces = compare_job_all_provinces('cloud architect')\n",
    "df_job_all_provinces"
   ]
  },
  {
   "attachments": {},
   "cell_type": "markdown",
   "metadata": {},
   "source": [
    "### Detailled breakdown of the salary by province"
   ]
  },
  {
   "cell_type": "code",
   "execution_count": null,
   "metadata": {},
   "outputs": [],
   "source": [
    "\n",
    "\n",
    "# Get the unique provinces\n",
    "provinces = df['province'].unique()\n",
    "\n",
    "# Define the job to compare\n",
    "job = 'cloud architect'\n",
    "\n",
    "# Loop over the provinces and compare the job in each province\n",
    "for province in provinces:\n",
    "    # Filter the dataframe by province and job\n",
    "    df_filtered = df[(df['province'] == province) & (df['job'] == job)]\n",
    "\n",
    "    # Group the resulting dataframe by job and region, and calculate the mean mid salary\n",
    "    df_grouped = df_filtered.groupby(['job', 'region'])['mid_mean'].mean().reset_index()\n",
    "\n",
    "    # Sort the grouped dataframe by the mid salary in descending order\n",
    "    df_sorted = df_grouped.sort_values('mid_mean', ascending=False)\n",
    "\n",
    "    # Print the sorted dataframe with the province name\n",
    "    print(f'{province.capitalize()}:')\n",
    "    print(df_sorted)\n",
    "    print()"
   ]
  },
  {
   "attachments": {},
   "cell_type": "markdown",
   "metadata": {},
   "source": [
    "# Part 2 "
   ]
  },
  {
   "attachments": {},
   "cell_type": "markdown",
   "metadata": {},
   "source": [
    "### Let's find the job that has the biggest difference across the country"
   ]
  },
  {
   "cell_type": "code",
   "execution_count": null,
   "metadata": {},
   "outputs": [],
   "source": [
    "#function to find the job with the largest difference, the user can choose between entry, mid or senior\n",
    "def find_job_with_biggest_diff(level):\n",
    "    #if level is not entry, mid or senior, return an error\n",
    "    if level not in ['entry_mean', 'mid_mean', 'senior_mean']:\n",
    "        return 'Error: level must be entry_mean, mid_mean or senior_mean'\n",
    "    # Group by the 'job' column and find the difference between the maximum and minimum values of the 'mid' column for each group\n",
    "    job_diffs = df.groupby('job')[[level]].apply(lambda x: (x.max() - x.min()).sum())\n",
    "\n",
    "    # Find the job with the largest overall salary difference\n",
    "    max_diff_job = job_diffs.idxmax()\n",
    "\n",
    "    # Print the result\n",
    "    print(\"The job with the largest overall salary difference is: {}\".format(max_diff_job))\n"
   ]
  },
  {
   "cell_type": "code",
   "execution_count": null,
   "metadata": {},
   "outputs": [],
   "source": [
    "find_job_with_biggest_diff('entry_mean')"
   ]
  },
  {
   "cell_type": "code",
   "execution_count": null,
   "metadata": {},
   "outputs": [],
   "source": [
    "job_diffs = df.groupby('job')[[\"mid_mean\"]].apply(lambda x: (x.max() - x.min()).sum())\n",
    "job_diffs_df = job_diffs.to_frame('Difference')"
   ]
  },
  {
   "cell_type": "code",
   "execution_count": null,
   "metadata": {},
   "outputs": [],
   "source": [
    "#sort the dataframe by the difference\n",
    "job_diffs_df_sorted = job_diffs_df.sort_values('Difference', ascending=False)   \n",
    "job_diffs_df_sorted.head(30)"
   ]
  },
  {
   "cell_type": "code",
   "execution_count": null,
   "metadata": {},
   "outputs": [],
   "source": []
  }
 ],
 "metadata": {
  "kernelspec": {
   "display_name": "Python 3",
   "language": "python",
   "name": "python3"
  },
  "language_info": {
   "codemirror_mode": {
    "name": "ipython",
    "version": 3
   },
   "file_extension": ".py",
   "mimetype": "text/x-python",
   "name": "python",
   "nbconvert_exporter": "python",
   "pygments_lexer": "ipython3",
   "version": "3.10.4"
  },
  "orig_nbformat": 4,
  "vscode": {
   "interpreter": {
    "hash": "3ad933181bd8a04b432d3370b9dc3b0662ad032c4dfaa4e4f1596c548f763858"
   }
  }
 },
 "nbformat": 4,
 "nbformat_minor": 2
}
